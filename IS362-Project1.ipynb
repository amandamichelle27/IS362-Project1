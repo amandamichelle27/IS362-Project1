{
  "worksheets": [
    {
      "cells": [
        {
          "cell_type": "markdown",
          "source": "The first step is to read in the data using `read_csv`. We'll use an online file hosted by Github to provide the data, as local files can be tricky in Jupyter notebook."
        },
        {
          "cell_type": "code",
          "input": "from urllib2 import urlopen\nfrom pandas import read_csv\nurl = \"https://raw.githubusercontent.com/amandamichelle27/IS362-Project1/master/flights.csv\"\nflights = read_csv(urlopen(url))\nprint flights",
          "outputs": [
            {
              "output_type": "stream",
              "text": "  Airline    Destination  On Time  Delayed\n0  ALASKA    Los Angeles      497       62\n1  ALASKA        Phoenix      221       12\n2  ALASKA      San Diego      212       20\n3  ALASKA  San Francisco      503      102\n4  ALASKA        Seattle     1841      305\n5  AMWEST    Los Angeles      694      117\n6  AMWEST        Phoenix     4840      415\n7  AMWEST      San Diego      383       65\n8  AMWEST  San Francisco      320      129\n9  AMWEST        Seattle      201       61\n\n[10 rows x 4 columns]\n",
              "stream": "stdout"
            }
          ],
          "language": "python",
          "metadata": {
            "cellView": null,
            "executionInfo": {
              "content": {
                "status": "ok",
                "execution_count": 71,
                "payload": [],
                "user_expressions": {},
                "user_variables": {}
              },
              "timestamp": 1519513690891,
              "user_tz": 300,
              "user": {
                "sessionId": "642fe1bcde20bb0a",
                "userId": "107043309311994470010",
                "permissionId": "10148482176426641017",
                "displayName": "Jonathan Claus",
                "color": "#1FA15D",
                "isMe": true,
                "isAnonymous": false,
                "photoUrl": "//lh4.googleusercontent.com/-JLtBXTpw9Nc/AAAAAAAAAAI/AAAAAAAAAOE/YUJzRq9oXfY/s50-c-k-no/photo.jpg"
              }
            }
          }
        },
        {
          "cell_type": "markdown",
          "source": "As you can see above, I've formatted the data using one row cell in the original file, as this has the most flexibility. Specifically, each row provides the number of flights that are either on-time or delayed with a given destination for a given airline. For example, if I had instead used rows with enough columns for five different airports, I would have to add a whole new column if data was reported for another airport. Using this format will allow me to process additional data without changing my algorithm."
        },
        {
          "cell_type": "markdown",
          "source": "The first comparison I will perform is directly comparing the percentage of on-time flights versus total flights on a per-airport basis."
        },
        {
          "cell_type": "code",
          "input": "df = flights  # Creating a copy for this section.\n# Comput the percentage of online flights per destination and airline.\ndf[\"% On Time\"] = 100 * df[\"On Time\"] / (df[\"On Time\"] + df[\"Delayed\"])\n# Drop the excess columns.\ndf = df.drop([\"On Time\", \"Delayed\"], 1)\n# Create one table per airline and then join them by destination.\nalaska = df[df[\"Airline\"] == \"ALASKA\"].drop([\"Airline\"], 1)\namwest = df[df[\"Airline\"] == \"AMWEST\"].drop([\"Airline\"], 1)\nresult = alaska.merge(amwest, on=[\"Destination\"],\n                      suffixes=(\" ALASKA\", \" AMWEST\"))\nprint result",
          "outputs": [
            {
              "output_type": "stream",
              "text": "     Destination  % On Time ALASKA  % On Time AMWEST\n0    Los Angeles         88.908766         85.573366\n1        Phoenix         94.849785         92.102759\n2      San Diego         91.379310         85.491071\n3  San Francisco         83.140496         71.269488\n4        Seattle         85.787512         76.717557\n\n[5 rows x 3 columns]\n",
              "stream": "stdout"
            }
          ],
          "language": "python",
          "metadata": {
            "cellView": null,
            "executionInfo": {
              "content": {
                "status": "ok",
                "execution_count": 72,
                "payload": [],
                "user_expressions": {},
                "user_variables": {}
              },
              "timestamp": 1519513690917,
              "user_tz": 300,
              "user": {
                "sessionId": "642fe1bcde20bb0a",
                "userId": "107043309311994470010",
                "permissionId": "10148482176426641017",
                "displayName": "Jonathan Claus",
                "color": "#1FA15D",
                "isMe": true,
                "isAnonymous": false,
                "photoUrl": "//lh4.googleusercontent.com/-JLtBXTpw9Nc/AAAAAAAAAAI/AAAAAAAAAOE/YUJzRq9oXfY/s50-c-k-no/photo.jpg"
              }
            }
          }
        },
        {
          "cell_type": "markdown",
          "source": "As you can see, Alaska has less delays proportionally for every airport. This proves that Alaska is the better airline based on the given data. Next, we'll examine the overall statistics per airline."
        },
        {
          "cell_type": "code",
          "input": "df = flights  # Creating a copy for this section.\n# Compute the total on-time and delayed flights per airline.\ndf = df.groupby([\"Airline\"])[\"On Time\", \"Delayed\"].sum()\n# Comput the percentage of online flights per destination and airline.\ndf[\"% On Time\"] = 100 * df[\"On Time\"] / (df[\"On Time\"] + df[\"Delayed\"])\n# Drop the excess columns.\ndf = df.drop([\"On Time\", \"Delayed\"], 1)\nprint df",
          "outputs": [
            {
              "output_type": "stream",
              "text": "         % On Time\nAirline           \nALASKA   86.728477\nAMWEST   89.107266\n\n[2 rows x 1 columns]\n",
              "stream": "stdout"
            }
          ],
          "language": "python",
          "metadata": {
            "cellView": null,
            "executionInfo": {
              "content": {
                "status": "ok",
                "execution_count": 73,
                "payload": [],
                "user_expressions": {},
                "user_variables": {}
              },
              "timestamp": 1519513690946,
              "user_tz": 300,
              "user": {
                "sessionId": "642fe1bcde20bb0a",
                "userId": "107043309311994470010",
                "permissionId": "10148482176426641017",
                "displayName": "Jonathan Claus",
                "color": "#1FA15D",
                "isMe": true,
                "isAnonymous": false,
                "photoUrl": "//lh4.googleusercontent.com/-JLtBXTpw9Nc/AAAAAAAAAAI/AAAAAAAAAOE/YUJzRq9oXfY/s50-c-k-no/photo.jpg"
              }
            }
          }
        },
        {
          "cell_type": "markdown",
          "source": "This result suggets that Amwest is the better airline, the opposite of our previous result. This is an example of Simpson's Paradox.<br><br>The best destination per airline is Phoenix for both of them. Amwest has significantly more flights traveling to Phoenix, so its overall result is nearly as good as just Phoenix (89.1% versus 92%). However, because Alaska rarely flies into Phoenix, its overall results is quite a bit worse than just Phoenix (86.7% versus 94.8%).<br><br>\nIf each airport had the same number of flights, then Alaska would have the better overall statistics. However, because the weights of each destination are different per destination, the overall results can be misleading. This goes to show that it's always good to perform an in-depth analysis before jumping to conclusions."
        }
      ]
    }
  ],
  "metadata": {
    "name": "IS362-Project1.ipynb",
    "colabVersion": "0.1"
  },
  "nbformat": 3,
  "nbformat_minor": 0
}