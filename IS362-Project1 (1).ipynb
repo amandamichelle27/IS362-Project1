{
 "cells": [
  {
   "cell_type": "markdown",
   "metadata": {},
   "source": [
    "The first step is to read in the data using `read_csv`. We'll use an online file hosted by Github to provide the data, as local files can be tricky in Jupyter notebook."
   ]
  },
  {
   "cell_type": "code",
   "execution_count": null,
   "metadata": {
    "cellView": null,
    "executionInfo": {
     "content": {
      "execution_count": 71,
      "payload": [],
      "status": "ok",
      "user_expressions": {},
      "user_variables": {}
     },
     "timestamp": 1519513690891,
     "user": {
      "color": "#1FA15D",
      "displayName": "Jonathan Claus",
      "isAnonymous": false,
      "isMe": true,
      "permissionId": "10148482176426641017",
      "photoUrl": "//lh4.googleusercontent.com/-JLtBXTpw9Nc/AAAAAAAAAAI/AAAAAAAAAOE/YUJzRq9oXfY/s50-c-k-no/photo.jpg",
      "sessionId": "642fe1bcde20bb0a",
      "userId": "107043309311994470010"
     },
     "user_tz": 300
    }
   },
   "outputs": [
    {
     "name": "stdout",
     "output_type": "stream",
     "text": [
      "  Airline    Destination  On Time  Delayed\n",
      "0  ALASKA    Los Angeles      497       62\n",
      "1  ALASKA        Phoenix      221       12\n",
      "2  ALASKA      San Diego      212       20\n",
      "3  ALASKA  San Francisco      503      102\n",
      "4  ALASKA        Seattle     1841      305\n",
      "5  AMWEST    Los Angeles      694      117\n",
      "6  AMWEST        Phoenix     4840      415\n",
      "7  AMWEST      San Diego      383       65\n",
      "8  AMWEST  San Francisco      320      129\n",
      "9  AMWEST        Seattle      201       61\n",
      "\n",
      "[10 rows x 4 columns]\n"
     ]
    }
   ],
   "source": [
    "from urllib2 import urlopen\n",
    "from pandas import read_csv\n",
    "url = \"https://raw.githubusercontent.com/amandamichelle27/IS362-Project1/master/flights.csv\"\n",
    "flights = read_csv(urlopen(url))\n",
    "print flights"
   ]
  },
  {
   "cell_type": "markdown",
   "metadata": {},
   "source": [
    "As you can see above, I've formatted the data using one row cell in the original file, as this has the most flexibility. Specifically, each row provides the number of flights that are either on-time or delayed with a given destination for a given airline. For example, if I had instead used rows with enough columns for five different airports, I would have to add a whole new column if data was reported for another airport. Using this format will allow me to process additional data without changing my algorithm."
   ]
  },
  {
   "cell_type": "markdown",
   "metadata": {},
   "source": [
    "The first comparison I will perform is directly comparing the percentage of on-time flights versus total flights on a per-airport basis."
   ]
  },
  {
   "cell_type": "code",
   "execution_count": null,
   "metadata": {
    "cellView": null,
    "executionInfo": {
     "content": {
      "execution_count": 72,
      "payload": [],
      "status": "ok",
      "user_expressions": {},
      "user_variables": {}
     },
     "timestamp": 1519513690917,
     "user": {
      "color": "#1FA15D",
      "displayName": "Jonathan Claus",
      "isAnonymous": false,
      "isMe": true,
      "permissionId": "10148482176426641017",
      "photoUrl": "//lh4.googleusercontent.com/-JLtBXTpw9Nc/AAAAAAAAAAI/AAAAAAAAAOE/YUJzRq9oXfY/s50-c-k-no/photo.jpg",
      "sessionId": "642fe1bcde20bb0a",
      "userId": "107043309311994470010"
     },
     "user_tz": 300
    }
   },
   "outputs": [
    {
     "name": "stdout",
     "output_type": "stream",
     "text": [
      "     Destination  % On Time ALASKA  % On Time AMWEST\n",
      "0    Los Angeles         88.908766         85.573366\n",
      "1        Phoenix         94.849785         92.102759\n",
      "2      San Diego         91.379310         85.491071\n",
      "3  San Francisco         83.140496         71.269488\n",
      "4        Seattle         85.787512         76.717557\n",
      "\n",
      "[5 rows x 3 columns]\n"
     ]
    }
   ],
   "source": [
    "df = flights  # Creating a copy for this section.\n",
    "# Comput the percentage of online flights per destination and airline.\n",
    "df[\"% On Time\"] = 100 * df[\"On Time\"] / (df[\"On Time\"] + df[\"Delayed\"])\n",
    "# Drop the excess columns.\n",
    "df = df.drop([\"On Time\", \"Delayed\"], 1)\n",
    "# Create one table per airline and then join them by destination.\n",
    "alaska = df[df[\"Airline\"] == \"ALASKA\"].drop([\"Airline\"], 1)\n",
    "amwest = df[df[\"Airline\"] == \"AMWEST\"].drop([\"Airline\"], 1)\n",
    "result = alaska.merge(amwest, on=[\"Destination\"],\n",
    "                      suffixes=(\" ALASKA\", \" AMWEST\"))\n",
    "print result"
   ]
  },
  {
   "cell_type": "markdown",
   "metadata": {},
   "source": [
    "As you can see, Alaska has less delays proportionally for every airport. This proves that Alaska is the better airline based on the given data. Next, we'll examine the overall statistics per airline."
   ]
  },
  {
   "cell_type": "code",
   "execution_count": null,
   "metadata": {
    "cellView": null,
    "executionInfo": {
     "content": {
      "execution_count": 73,
      "payload": [],
      "status": "ok",
      "user_expressions": {},
      "user_variables": {}
     },
     "timestamp": 1519513690946,
     "user": {
      "color": "#1FA15D",
      "displayName": "Jonathan Claus",
      "isAnonymous": false,
      "isMe": true,
      "permissionId": "10148482176426641017",
      "photoUrl": "//lh4.googleusercontent.com/-JLtBXTpw9Nc/AAAAAAAAAAI/AAAAAAAAAOE/YUJzRq9oXfY/s50-c-k-no/photo.jpg",
      "sessionId": "642fe1bcde20bb0a",
      "userId": "107043309311994470010"
     },
     "user_tz": 300
    }
   },
   "outputs": [
    {
     "name": "stdout",
     "output_type": "stream",
     "text": [
      "         % On Time\n",
      "Airline           \n",
      "ALASKA   86.728477\n",
      "AMWEST   89.107266\n",
      "\n",
      "[2 rows x 1 columns]\n"
     ]
    }
   ],
   "source": [
    "df = flights  # Creating a copy for this section.\n",
    "# Compute the total on-time and delayed flights per airline.\n",
    "df = df.groupby([\"Airline\"])[\"On Time\", \"Delayed\"].sum()\n",
    "# Comput the percentage of on tine flights per destination and airline.\n",
    "df[\"% On Time\"] = 100 * df[\"On Time\"] / (df[\"On Time\"] + df[\"Delayed\"])\n",
    "# Drop the excess columns.\n",
    "df = df.drop([\"On Time\", \"Delayed\"], 1)\n",
    "print df"
   ]
  },
  {
   "cell_type": "markdown",
   "metadata": {},
   "source": [
    "This result suggets that Amwest is the better airline, the opposite of our previous result. This is an example of Simpson's Paradox.<br><br>The best destination per airline is Phoenix for both of them. Amwest has significantly more flights traveling to Phoenix, so its overall result is nearly as good as just Phoenix (89.1% versus 92%). However, because Alaska rarely flies into Phoenix, its overall results is quite a bit worse than just Phoenix (86.7% versus 94.8%).<br><br>\n",
    "If each airport had the same number of flights, then Alaska would have the better overall statistics. However, because the weights of each destination are different per destination, the overall results can be misleading. This goes to show that it's always good to perform an in-depth analysis before jumping to conclusions."
   ]
  }
 ],
 "metadata": {
  "colabVersion": "0.1",
  "kernelspec": {
   "display_name": "Python 3",
   "language": "python",
   "name": "python3"
  },
  "language_info": {
   "codemirror_mode": {
    "name": "ipython",
    "version": 3
   },
   "file_extension": ".py",
   "mimetype": "text/x-python",
   "name": "python",
   "nbconvert_exporter": "python",
   "pygments_lexer": "ipython3",
   "version": "3.6.3"
  }
 },
 "nbformat": 4,
 "nbformat_minor": 1
}
